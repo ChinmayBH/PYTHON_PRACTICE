{
 "cells": [
  {
   "cell_type": "code",
   "execution_count": 2,
   "metadata": {},
   "outputs": [
    {
     "name": "stdout",
     "output_type": "stream",
     "text": [
      "Hello World!\n"
     ]
    }
   ],
   "source": [
    "#Printing in python\n",
    "\n",
    "print(\"Hello World!\")"
   ]
  },
  {
   "cell_type": "code",
   "execution_count": 12,
   "metadata": {},
   "outputs": [
    {
     "name": "stdout",
     "output_type": "stream",
     "text": [
      "<class 'str'>\n"
     ]
    }
   ],
   "source": [
    "# Variables in python\n",
    "x = 5 #int \n",
    "y = 5.5 # float\n",
    "z = True #bool\n",
    "z = \"Chinmay\" #str\n",
    "print(type(z))"
   ]
  },
  {
   "cell_type": "code",
   "execution_count": 13,
   "metadata": {},
   "outputs": [],
   "source": [
    "#Typecasting is a method of converting one type into another type"
   ]
  },
  {
   "cell_type": "markdown",
   "metadata": {},
   "source": [
    "Integers: A number without a decimal part, such as 25 or 40 \n",
    "Floats: A number with both an integer and a decimal part, such as 72.25 \n",
    "Booleans: A variable that can be either True or False, corresponding to the machine's logic of understanding 1s and 0s \n",
    "Tuples: A collection of data that can contain multiple types of data, such as a tuple with integers or a tuple with a mix of integers and strings \n",
    "Local variables: A variable that is defined inside a function and only exists within that function \n",
    "Global variables: A variable that is declared outside the scope of a function and can be accessed inside or outside the function \n",
    "Class variables: A variable that is defined within the class construction and is shared by all instances of the class \n",
    "Instance variables: A variable that is defined in a class and has a separate copy for each instantiated object of the class"
   ]
  },
  {
   "cell_type": "code",
   "execution_count": 11,
   "metadata": {},
   "outputs": [
    {
     "data": {
      "text/plain": [
       "1"
      ]
     },
     "execution_count": 11,
     "metadata": {},
     "output_type": "execute_result"
    }
   ],
   "source": [
    "# Python operators\n",
    "x = 3\n",
    "y = 2\n",
    "z = x+y\n",
    "z  = x/y\n",
    "z = x%y\n",
    "z"
   ]
  },
  {
   "cell_type": "markdown",
   "metadata": {},
   "source": [
    "Python has six relational operators used to compare values:\n",
    "\n",
    "\n",
    "Equal to (==): Checks if two values are equal.\n",
    "Not equal to (!=): Checks if two values are not equal.\n",
    "Greater than (>): Checks if the left value is greater than the right value.\n",
    "Less than (<): Checks if the left value is less than the right value.\n",
    "Greater than or equal to (>=): Checks if the left value is greater than or equal to the right value.\n",
    "Less than or equal to (<=): Checks if the left value is less than or equal to the right value."
   ]
  },
  {
   "cell_type": "code",
   "execution_count": 3,
   "metadata": {},
   "outputs": [
    {
     "name": "stdout",
     "output_type": "stream",
     "text": [
      "The text next:  \n",
      "My name is Chinmay! I know the python. This is just a sort of polishing my knife.\n",
      "I may be good but not best what I want to be.\n",
      "Thats why I am practicing python hard.\n",
      "\n"
     ]
    }
   ],
   "source": [
    "text = \"\"\" \n",
    "My name is Chinmay! I know the python. This is just a sort of polishing my knife.\n",
    "I may be good but not best what I want to be.\n",
    "Thats why I am practicing python hard.\n",
    "\"\"\"\n",
    "\n",
    "print(\"The text next:\",text)"
   ]
  },
  {
   "cell_type": "code",
   "execution_count": null,
   "metadata": {},
   "outputs": [],
   "source": [
    "# print python version\n",
    "\n",
    "!python3 --version"
   ]
  },
  {
   "cell_type": "code",
   "execution_count": 9,
   "metadata": {},
   "outputs": [],
   "source": [
    "# Write a program to know area of circle \n",
    "import math\n",
    "def area():\n",
    "    radius = float(input(\"enter radius of circle \"))\n",
    "    area  = round(radius * math.pi * radius,2)\n",
    "    return f\"Area of circle is {area} sq-units\""
   ]
  },
  {
   "cell_type": "code",
   "execution_count": null,
   "metadata": {},
   "outputs": [],
   "source": [
    "area_1 = area()\n",
    "area_1"
   ]
  },
  {
   "cell_type": "code",
   "execution_count": null,
   "metadata": {},
   "outputs": [],
   "source": [
    "#  program that accepts the user's first and last name and prints them in reverse order\n",
    "\n",
    "name = str(input(\"Enter your good name: \"))\n",
    "first_name = name.split(\" \")[0]\n",
    "last_name = name.split(\" \")[1]\n",
    "print(\"Hello {} {}, How are you \".format(last_name, first_name))"
   ]
  },
  {
   "cell_type": "code",
   "execution_count": null,
   "metadata": {},
   "outputs": [],
   "source": [
    "#program that accepts a sequence of comma-separated numbers from the user and generates a list and a tuple of those numbers.\n",
    "\n",
    "values = input()\n",
    "print(values)\n",
    "values = tuple(values.split(\",\"))\n",
    "print(values)\n"
   ]
  },
  {
   "cell_type": "code",
   "execution_count": null,
   "metadata": {},
   "outputs": [],
   "source": [
    "#program that accepts a filename from the user and prints the extension of the file.\n",
    "file_name = input(\"enter filename \")\n",
    "print(file_name)\n",
    "splitting = file_name.split(\".\")\n",
    "print(splitting)\n",
    "extention = splitting[-1]\n",
    "print(extention)"
   ]
  },
  {
   "cell_type": "code",
   "execution_count": null,
   "metadata": {},
   "outputs": [],
   "source": [
    "# program to display the first and last colors from the following list\n",
    "color_list = [\"Red\",\"Green\",\"White\" ,\"Black\"]\n",
    "print(\"the first element of above list is {} and the last element is {}\".format(color_list[0], color_list[-1]))"
   ]
  },
  {
   "cell_type": "code",
   "execution_count": null,
   "metadata": {},
   "outputs": [],
   "source": [
    "# program to display the examination schedule\n",
    "# Define a tuple called 'exam_st_date' containing the exam start date in the format (day, month, year)\n",
    "exam_st_date = (11, 12, 2014)\n",
    "\n",
    "# Print the exam start date using string formatting\n",
    "# The '%i' placeholders are filled with the values from the 'exam_st_date' tuple\n",
    "print(\"The examination will start from : %i / %i / %i\" % exam_st_date)"
   ]
  },
  {
   "cell_type": "code",
   "execution_count": 49,
   "metadata": {},
   "outputs": [],
   "source": [
    "# program that accepts an integer (n) and computes the value of n+nn+nnn.\n",
    "def comm_add(num):\n",
    "    num1 = int(\"%s\" %num) \n",
    "    num2 = int(\"%s%s\"%(num,num))\n",
    "    num3 = int(\"%s%s%s\"%(num,num,num))\n",
    "    add = num1+num2+num3\n",
    "    return add   "
   ]
  },
  {
   "cell_type": "code",
   "execution_count": null,
   "metadata": {},
   "outputs": [],
   "source": [
    "ans = comm_add(2)\n",
    "ans"
   ]
  },
  {
   "cell_type": "code",
   "execution_count": null,
   "metadata": {},
   "outputs": [],
   "source": [
    "# This is comment \n",
    "a = 4  # this is also a comment "
   ]
  },
  {
   "cell_type": "code",
   "execution_count": 14,
   "metadata": {},
   "outputs": [],
   "source": [
    "# Cases of declearing variables \n",
    "# Camel case\n",
    "theFirstInteger = 1\n",
    "# Pascal case\n",
    "TheFirstInteger = 1\n",
    "# Snake case\n",
    "the_first_integer = 1"
   ]
  },
  {
   "cell_type": "code",
   "execution_count": 15,
   "metadata": {},
   "outputs": [],
   "source": [
    "# Assigning multiple variables\n",
    "x,y,z = 1,2,3"
   ]
  },
  {
   "cell_type": "code",
   "execution_count": 16,
   "metadata": {},
   "outputs": [],
   "source": [
    "x = y = z = \"Chinmay\""
   ]
  },
  {
   "cell_type": "code",
   "execution_count": 17,
   "metadata": {},
   "outputs": [
    {
     "name": "stdout",
     "output_type": "stream",
     "text": [
      "Chinmay Chinmay Chinmay\n"
     ]
    }
   ],
   "source": [
    "# outputting multiple \n",
    "print(x,y,z)"
   ]
  },
  {
   "cell_type": "code",
   "execution_count": 22,
   "metadata": {},
   "outputs": [
    {
     "data": {
      "text/plain": [
       "'chinmay is cool'"
      ]
     },
     "execution_count": 22,
     "metadata": {},
     "output_type": "execute_result"
    }
   ],
   "source": [
    "# Global variables\n",
    "x = \"cool\"\n",
    "def greet(name):\n",
    "    return name + \" is\" +\" \" + x\n",
    "\n",
    "d = greet(\"chinmay\")\n",
    "d"
   ]
  },
  {
   "cell_type": "code",
   "execution_count": 23,
   "metadata": {},
   "outputs": [
    {
     "data": {
      "text/plain": [
       "'\\nPython has the following data types built-in by default, in these categories:\\n\\nText Type:\\tstr\\nNumeric Types:\\tint, float, complex\\nSequence Types:\\tlist, tuple, range\\nMapping Type:\\tdict\\nSet Types:\\tset, frozenset\\nBoolean Type:\\tbool\\nBinary Types:\\tbytes, bytearray, memoryview\\nNone Type:\\tNoneType\\n'"
      ]
     },
     "execution_count": 23,
     "metadata": {},
     "output_type": "execute_result"
    }
   ],
   "source": [
    "\"\"\"\n",
    "Python has the following data types built-in by default, in these categories:\n",
    "\n",
    "Text Type:\tstr\n",
    "Numeric Types:\tint, float, complex\n",
    "Sequence Types:\tlist, tuple, range\n",
    "Mapping Type:\tdict\n",
    "Set Types:\tset, frozenset\n",
    "Boolean Type:\tbool\n",
    "Binary Types:\tbytes, bytearray, memoryview\n",
    "None Type:\tNoneType\n",
    "\"\"\""
   ]
  },
  {
   "cell_type": "code",
   "execution_count": 24,
   "metadata": {},
   "outputs": [
    {
     "data": {
      "text/plain": [
       "'\\nMethod\\tDescription\\ncapitalize()\\tConverts the first character to upper case\\ncasefold()\\tConverts string into lower case\\ncenter()\\tReturns a centered string\\ncount()\\tReturns the number of times a specified value occurs in a string\\nencode()\\tReturns an encoded version of the string\\nendswith()\\tReturns true if the string ends with the specified value\\nexpandtabs()\\tSets the tab size of the string\\nfind()\\tSearches the string for a specified value and returns the position of where it was found\\nformat()\\tFormats specified values in a string\\nformat_map()\\tFormats specified values in a string\\nindex()\\tSearches the string for a specified value and returns the position of where it was found\\nisalnum()\\tReturns True if all characters in the string are alphanumeric\\nisalpha()\\tReturns True if all characters in the string are in the alphabet\\nisascii()\\tReturns True if all characters in the string are ascii characters\\nisdecimal()\\tReturns True if all characters in the string are decimals\\nisdigit()\\tReturns True if all characters in the string are digits\\nisidentifier()\\tReturns True if the string is an identifier\\nislower()\\tReturns True if all characters in the string are lower case\\nisnumeric()\\tReturns True if all characters in the string are numeric\\nisprintable()\\tReturns True if all characters in the string are printable\\nisspace()\\tReturns True if all characters in the string are whitespaces\\nistitle()\\tReturns True if the string follows the rules of a title\\nisupper()\\tReturns True if all characters in the string are upper case\\njoin()\\tJoins the elements of an iterable to the end of the string\\nljust()\\tReturns a left justified version of the string\\nlower()\\tConverts a string into lower case\\nlstrip()\\tReturns a left trim version of the string\\nmaketrans()\\tReturns a translation table to be used in translations\\npartition()\\tReturns a tuple where the string is parted into three parts\\nreplace()\\tReturns a string where a specified value is replaced with a specified value\\nrfind()\\tSearches the string for a specified value and returns the last position of where it was found\\nrindex()\\tSearches the string for a specified value and returns the last position of where it was found\\nrjust()\\tReturns a right justified version of the string\\nrpartition()\\tReturns a tuple where the string is parted into three parts\\nrsplit()\\tSplits the string at the specified separator, and returns a list\\nrstrip()\\tReturns a right trim version of the string\\nsplit()\\tSplits the string at the specified separator, and returns a list\\nsplitlines()\\tSplits the string at line breaks and returns a list\\nstartswith()\\tReturns true if the string starts with the specified value\\nstrip()\\tReturns a trimmed version of the string\\nswapcase()\\tSwaps cases, lower case becomes upper case and vice versa\\ntitle()\\tConverts the first character of each word to upper case\\ntranslate()\\tReturns a translated string\\nupper()\\tConverts a string into upper case\\nzfill()\\tFills the string with a specified number of 0 values at the beginning\\n'"
      ]
     },
     "execution_count": 24,
     "metadata": {},
     "output_type": "execute_result"
    }
   ],
   "source": [
    "\"\"\"\n",
    "Method\tDescription\n",
    "capitalize()\tConverts the first character to upper case\n",
    "casefold()\tConverts string into lower case\n",
    "center()\tReturns a centered string\n",
    "count()\tReturns the number of times a specified value occurs in a string\n",
    "encode()\tReturns an encoded version of the string\n",
    "endswith()\tReturns true if the string ends with the specified value\n",
    "expandtabs()\tSets the tab size of the string\n",
    "find()\tSearches the string for a specified value and returns the position of where it was found\n",
    "format()\tFormats specified values in a string\n",
    "format_map()\tFormats specified values in a string\n",
    "index()\tSearches the string for a specified value and returns the position of where it was found\n",
    "isalnum()\tReturns True if all characters in the string are alphanumeric\n",
    "isalpha()\tReturns True if all characters in the string are in the alphabet\n",
    "isascii()\tReturns True if all characters in the string are ascii characters\n",
    "isdecimal()\tReturns True if all characters in the string are decimals\n",
    "isdigit()\tReturns True if all characters in the string are digits\n",
    "isidentifier()\tReturns True if the string is an identifier\n",
    "islower()\tReturns True if all characters in the string are lower case\n",
    "isnumeric()\tReturns True if all characters in the string are numeric\n",
    "isprintable()\tReturns True if all characters in the string are printable\n",
    "isspace()\tReturns True if all characters in the string are whitespaces\n",
    "istitle()\tReturns True if the string follows the rules of a title\n",
    "isupper()\tReturns True if all characters in the string are upper case\n",
    "join()\tJoins the elements of an iterable to the end of the string\n",
    "ljust()\tReturns a left justified version of the string\n",
    "lower()\tConverts a string into lower case\n",
    "lstrip()\tReturns a left trim version of the string\n",
    "maketrans()\tReturns a translation table to be used in translations\n",
    "partition()\tReturns a tuple where the string is parted into three parts\n",
    "replace()\tReturns a string where a specified value is replaced with a specified value\n",
    "rfind()\tSearches the string for a specified value and returns the last position of where it was found\n",
    "rindex()\tSearches the string for a specified value and returns the last position of where it was found\n",
    "rjust()\tReturns a right justified version of the string\n",
    "rpartition()\tReturns a tuple where the string is parted into three parts\n",
    "rsplit()\tSplits the string at the specified separator, and returns a list\n",
    "rstrip()\tReturns a right trim version of the string\n",
    "split()\tSplits the string at the specified separator, and returns a list\n",
    "splitlines()\tSplits the string at line breaks and returns a list\n",
    "startswith()\tReturns true if the string starts with the specified value\n",
    "strip()\tReturns a trimmed version of the string\n",
    "swapcase()\tSwaps cases, lower case becomes upper case and vice versa\n",
    "title()\tConverts the first character of each word to upper case\n",
    "translate()\tReturns a translated string\n",
    "upper()\tConverts a string into upper case\n",
    "zfill()\tFills the string with a specified number of 0 values at the beginning\n",
    "\"\"\""
   ]
  },
  {
   "cell_type": "code",
   "execution_count": 25,
   "metadata": {},
   "outputs": [
    {
     "data": {
      "text/plain": [
       "'CHINMAN'"
      ]
     },
     "execution_count": 25,
     "metadata": {},
     "output_type": "execute_result"
    }
   ],
   "source": [
    "z = \"chinman\"\n",
    "z.upper()"
   ]
  },
  {
   "cell_type": "code",
   "execution_count": 27,
   "metadata": {},
   "outputs": [
    {
     "name": "stdout",
     "output_type": "stream",
     "text": [
      "['round', 'square', 'hexagoan', 'pentagoan']\n"
     ]
    }
   ],
   "source": [
    "one_list = [\"round\",\"square\", \"hexagoan\", \"pentagoan\"]\n",
    "print(one_list)"
   ]
  },
  {
   "cell_type": "code",
   "execution_count": 28,
   "metadata": {},
   "outputs": [
    {
     "name": "stdout",
     "output_type": "stream",
     "text": [
      "YES\n"
     ]
    }
   ],
   "source": [
    "if \"square\" in one_list:\n",
    "    print(\"YES\")\n",
    "else:\n",
    "    print(\"NO\")"
   ]
  },
  {
   "cell_type": "code",
   "execution_count": 29,
   "metadata": {},
   "outputs": [
    {
     "data": {
      "text/plain": [
       "['round', 'stright', 'hexagoan', 'pentagoan']"
      ]
     },
     "execution_count": 29,
     "metadata": {},
     "output_type": "execute_result"
    }
   ],
   "source": [
    "one_list[1] = \"stright\"\n",
    "one_list"
   ]
  },
  {
   "cell_type": "code",
   "execution_count": 30,
   "metadata": {},
   "outputs": [
    {
     "data": {
      "text/plain": [
       "' \\nList methods\\n\\nMethod\\tDescription\\nappend()\\tAdds an element at the end of the list\\nclear()\\tRemoves all the elements from the list\\ncopy()\\tReturns a copy of the list\\ncount()\\tReturns the number of elements with the specified value\\nextend()\\tAdd the elements of a list (or any iterable), to the end of the current list\\nindex()\\tReturns the index of the first element with the specified value\\ninsert()\\tAdds an element at the specified position\\npop()\\tRemoves the element at the specified position\\nremove()\\tRemoves the item with the specified value\\nreverse()\\tReverses the order of the list\\nsort()\\tSorts the list\\n'"
      ]
     },
     "execution_count": 30,
     "metadata": {},
     "output_type": "execute_result"
    }
   ],
   "source": [
    "\"\"\" \n",
    "List methods\n",
    "\n",
    "Method\tDescription\n",
    "append()\tAdds an element at the end of the list\n",
    "clear()\tRemoves all the elements from the list\n",
    "copy()\tReturns a copy of the list\n",
    "count()\tReturns the number of elements with the specified value\n",
    "extend()\tAdd the elements of a list (or any iterable), to the end of the current list\n",
    "index()\tReturns the index of the first element with the specified value\n",
    "insert()\tAdds an element at the specified position\n",
    "pop()\tRemoves the element at the specified position\n",
    "remove()\tRemoves the item with the specified value\n",
    "reverse()\tReverses the order of the list\n",
    "sort()\tSorts the list\n",
    "\"\"\"\n"
   ]
  },
  {
   "cell_type": "code",
   "execution_count": 31,
   "metadata": {},
   "outputs": [],
   "source": [
    "# Dicts\n",
    "A = {\"chinmay\":\"Bhalerao\",\n",
    "     \"Girish\":\"Amaredsa\"}"
   ]
  },
  {
   "cell_type": "code",
   "execution_count": 34,
   "metadata": {},
   "outputs": [
    {
     "data": {
      "text/plain": [
       "{'chinmay': 'Bhalerao', 'Girish': 'Amaredsa'}"
      ]
     },
     "execution_count": 34,
     "metadata": {},
     "output_type": "execute_result"
    }
   ],
   "source": [
    "A"
   ]
  },
  {
   "cell_type": "code",
   "execution_count": 35,
   "metadata": {},
   "outputs": [
    {
     "data": {
      "text/plain": [
       "'Bhalerao'"
      ]
     },
     "execution_count": 35,
     "metadata": {},
     "output_type": "execute_result"
    }
   ],
   "source": [
    "A[\"chinmay\"]"
   ]
  },
  {
   "cell_type": "code",
   "execution_count": 38,
   "metadata": {},
   "outputs": [
    {
     "data": {
      "text/plain": [
       "{'chinmay': 'Amaredsa'}"
      ]
     },
     "execution_count": 38,
     "metadata": {},
     "output_type": "execute_result"
    }
   ],
   "source": [
    "# Duplicate values will overwrite existing values:\n",
    "\n",
    "\n",
    "A = {\"chinmay\":\"Bhalerao\",\n",
    "     \"chinmay\":\"Amaredsa\"}\n",
    "A"
   ]
  },
  {
   "cell_type": "code",
   "execution_count": 39,
   "metadata": {},
   "outputs": [
    {
     "data": {
      "text/plain": [
       "1"
      ]
     },
     "execution_count": 39,
     "metadata": {},
     "output_type": "execute_result"
    }
   ],
   "source": [
    "len(A)"
   ]
  },
  {
   "cell_type": "code",
   "execution_count": 40,
   "metadata": {},
   "outputs": [
    {
     "data": {
      "text/plain": [
       "'Amaredsa'"
      ]
     },
     "execution_count": 40,
     "metadata": {},
     "output_type": "execute_result"
    }
   ],
   "source": [
    "A.get(\"chinmay\")"
   ]
  },
  {
   "cell_type": "code",
   "execution_count": 41,
   "metadata": {},
   "outputs": [
    {
     "data": {
      "text/plain": [
       "dict_keys(['chinmay'])"
      ]
     },
     "execution_count": 41,
     "metadata": {},
     "output_type": "execute_result"
    }
   ],
   "source": [
    "A.keys()"
   ]
  },
  {
   "cell_type": "code",
   "execution_count": 42,
   "metadata": {},
   "outputs": [
    {
     "data": {
      "text/plain": [
       "dict_keys(['brand', 'model', 'year'])"
      ]
     },
     "execution_count": 42,
     "metadata": {},
     "output_type": "execute_result"
    }
   ],
   "source": [
    "car = {\n",
    "\"brand\": \"Ford\",\n",
    "\"model\": \"Mustang\",\n",
    "\"year\": 1964\n",
    "}\n",
    "\n",
    "x = car.keys()\n",
    "x"
   ]
  },
  {
   "cell_type": "code",
   "execution_count": 43,
   "metadata": {},
   "outputs": [
    {
     "data": {
      "text/plain": [
       "{'brand': 'Ford', 'model': 'Mustang', 'year': 1964, 'color': 'white'}"
      ]
     },
     "execution_count": 43,
     "metadata": {},
     "output_type": "execute_result"
    }
   ],
   "source": [
    "car[\"color\"] = \"white\"\n",
    "car"
   ]
  },
  {
   "cell_type": "code",
   "execution_count": 48,
   "metadata": {},
   "outputs": [
    {
     "data": {
      "text/plain": [
       "dict_values(['Ford', 'Mustang', 1964, 'white'])"
      ]
     },
     "execution_count": 48,
     "metadata": {},
     "output_type": "execute_result"
    }
   ],
   "source": [
    "car.values()"
   ]
  },
  {
   "cell_type": "code",
   "execution_count": 49,
   "metadata": {},
   "outputs": [],
   "source": [
    "car[\"year\"] = 1966"
   ]
  },
  {
   "cell_type": "code",
   "execution_count": 53,
   "metadata": {},
   "outputs": [
    {
     "data": {
      "text/plain": [
       "dict_items([('brand', 'Ford'), ('model', 'Mustang'), ('year', 1966), ('color', 'white')])"
      ]
     },
     "execution_count": 53,
     "metadata": {},
     "output_type": "execute_result"
    }
   ],
   "source": [
    "x = car.items()\n",
    "x"
   ]
  },
  {
   "cell_type": "code",
   "execution_count": 57,
   "metadata": {},
   "outputs": [
    {
     "name": "stdout",
     "output_type": "stream",
     "text": [
      "brand\n",
      "model\n",
      "year\n",
      "color\n",
      "Ford\n",
      "Mustang\n",
      "1966\n",
      "white\n"
     ]
    }
   ],
   "source": [
    "#For keys\n",
    "for i in car:\n",
    "    print(i)\n",
    "# For values\n",
    "for i in car:\n",
    "    print(car[i])"
   ]
  },
  {
   "cell_type": "code",
   "execution_count": 58,
   "metadata": {},
   "outputs": [],
   "source": [
    "myfamily = {\"child1\" : {\"name\" : \"Emil\",\"year\" : 2004},\n",
    "            \"child2\" : {\"name\" : \"Tobias\",\"year\" : 2007},\n",
    "            \"child3\" : {\"name\" : \"Linus\",\"year\" : 2011}\n",
    "}"
   ]
  },
  {
   "cell_type": "code",
   "execution_count": 59,
   "metadata": {},
   "outputs": [
    {
     "data": {
      "text/plain": [
       "\"\\nMethod\\tDescription\\nclear()\\tRemoves all the elements from the dictionary\\ncopy()\\tReturns a copy of the dictionary\\nfromkeys()\\tReturns a dictionary with the specified keys and value\\nget()\\tReturns the value of the specified key\\nitems()\\tReturns a list containing a tuple for each key value pair\\nkeys()\\tReturns a list containing the dictionary's keys\\npop()\\tRemoves the element with the specified key\\npopitem()\\tRemoves the last inserted key-value pair\\nsetdefault()\\tReturns the value of the specified key. If the key does not exist: insert the key, with the specified value\\nupdate()\\tUpdates the dictionary with the specified key-value pairs\\nvalues()\\tReturns a list of all the values in the dictionary\\n\""
      ]
     },
     "execution_count": 59,
     "metadata": {},
     "output_type": "execute_result"
    }
   ],
   "source": [
    "# Dict methods\n",
    "\"\"\"\n",
    "Method\tDescription\n",
    "clear()\tRemoves all the elements from the dictionary\n",
    "copy()\tReturns a copy of the dictionary\n",
    "fromkeys()\tReturns a dictionary with the specified keys and value\n",
    "get()\tReturns the value of the specified key\n",
    "items()\tReturns a list containing a tuple for each key value pair\n",
    "keys()\tReturns a list containing the dictionary's keys\n",
    "pop()\tRemoves the element with the specified key\n",
    "popitem()\tRemoves the last inserted key-value pair\n",
    "setdefault()\tReturns the value of the specified key. If the key does not exist: insert the key, with the specified value\n",
    "update()\tUpdates the dictionary with the specified key-value pairs\n",
    "values()\tReturns a list of all the values in the dictionary\n",
    "\"\"\""
   ]
  },
  {
   "cell_type": "code",
   "execution_count": null,
   "metadata": {},
   "outputs": [],
   "source": []
  }
 ],
 "metadata": {
  "kernelspec": {
   "display_name": "Python 3",
   "language": "python",
   "name": "python3"
  },
  "language_info": {
   "codemirror_mode": {
    "name": "ipython",
    "version": 3
   },
   "file_extension": ".py",
   "mimetype": "text/x-python",
   "name": "python",
   "nbconvert_exporter": "python",
   "pygments_lexer": "ipython3",
   "version": "3.11.9"
  }
 },
 "nbformat": 4,
 "nbformat_minor": 2
}
