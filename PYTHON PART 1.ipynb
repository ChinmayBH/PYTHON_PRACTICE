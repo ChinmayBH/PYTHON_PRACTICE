{
 "cells": [
  {
   "cell_type": "code",
   "execution_count": null,
   "id": "af9884e2",
   "metadata": {},
   "outputs": [],
   "source": [
    "# This notebook is a basic notebook to start python from basics .\n",
    "# Using : python 3 \n",
    "# IDE : Jupyter notebook "
   ]
  },
  {
   "cell_type": "code",
   "execution_count": null,
   "id": "92e8fcf8",
   "metadata": {},
   "outputs": [],
   "source": [
    "# Variables"
   ]
  },
  {
   "cell_type": "code",
   "execution_count": 2,
   "id": "e434a417",
   "metadata": {},
   "outputs": [],
   "source": [
    "#variable name can be start from _"
   ]
  },
  {
   "cell_type": "code",
   "execution_count": 3,
   "id": "cd131713",
   "metadata": {},
   "outputs": [],
   "source": [
    "#Pascal Case\n",
    "MyVariableName = \"John\"\n"
   ]
  },
  {
   "cell_type": "code",
   "execution_count": 1,
   "id": "755a9ee1",
   "metadata": {},
   "outputs": [],
   "source": [
    "_ch = 1"
   ]
  },
  {
   "cell_type": "code",
   "execution_count": 4,
   "id": "0d4c16ab",
   "metadata": {},
   "outputs": [],
   "source": [
    "#Snake Case\n",
    "my_variable_name = \"John\""
   ]
  },
  {
   "cell_type": "code",
   "execution_count": 5,
   "id": "1469108d",
   "metadata": {},
   "outputs": [],
   "source": [
    "x,y,z = 1,2,4"
   ]
  },
  {
   "cell_type": "code",
   "execution_count": 8,
   "id": "7376c8bf",
   "metadata": {},
   "outputs": [],
   "source": [
    "list1 = [1,2,3]\n",
    "x,y,z = list1"
   ]
  },
  {
   "cell_type": "code",
   "execution_count": 10,
   "id": "9b21ae48",
   "metadata": {},
   "outputs": [],
   "source": [
    "x = y = z = \"RIB\""
   ]
  },
  {
   "cell_type": "code",
   "execution_count": 14,
   "id": "b529531d",
   "metadata": {},
   "outputs": [
    {
     "data": {
      "text/plain": [
       "'RIB'"
      ]
     },
     "execution_count": 14,
     "metadata": {},
     "output_type": "execute_result"
    }
   ],
   "source": [
    "z"
   ]
  },
  {
   "cell_type": "code",
   "execution_count": 15,
   "id": "c83d7eb2",
   "metadata": {},
   "outputs": [
    {
     "name": "stdout",
     "output_type": "stream",
     "text": [
      "RIB 4\n"
     ]
    }
   ],
   "source": [
    "x = \"RIB\"\n",
    "y = 4\n",
    "print(x,y)"
   ]
  },
  {
   "cell_type": "code",
   "execution_count": 16,
   "id": "9f23b6ef",
   "metadata": {},
   "outputs": [
    {
     "ename": "TypeError",
     "evalue": "can only concatenate str (not \"int\") to str",
     "output_type": "error",
     "traceback": [
      "\u001b[1;31m---------------------------------------------------------------------------\u001b[0m",
      "\u001b[1;31mTypeError\u001b[0m                                 Traceback (most recent call last)",
      "\u001b[1;32m~\\AppData\\Local\\Temp/ipykernel_448/501100011.py\u001b[0m in \u001b[0;36m<module>\u001b[1;34m\u001b[0m\n\u001b[1;32m----> 1\u001b[1;33m \u001b[0mprint\u001b[0m\u001b[1;33m(\u001b[0m\u001b[0mx\u001b[0m\u001b[1;33m+\u001b[0m\u001b[0my\u001b[0m\u001b[1;33m)\u001b[0m\u001b[1;33m\u001b[0m\u001b[1;33m\u001b[0m\u001b[0m\n\u001b[0m",
      "\u001b[1;31mTypeError\u001b[0m: can only concatenate str (not \"int\") to str"
     ]
    }
   ],
   "source": [
    "print(x+y)"
   ]
  },
  {
   "cell_type": "code",
   "execution_count": 17,
   "id": "ce1066e3",
   "metadata": {},
   "outputs": [
    {
     "name": "stdout",
     "output_type": "stream",
     "text": [
      "RIB Winjit\n"
     ]
    }
   ],
   "source": [
    "x = \"RIB\"\n",
    "y = \"Winjit\"\n",
    "print(x,y)"
   ]
  },
  {
   "cell_type": "code",
   "execution_count": 18,
   "id": "17f9e1f9",
   "metadata": {},
   "outputs": [],
   "source": [
    "# Text Type:\tstr\n",
    "# Numeric Types:\tint, float, complex\n",
    "# Boolean Type:\tbool"
   ]
  },
  {
   "cell_type": "code",
   "execution_count": 21,
   "id": "98d44770",
   "metadata": {},
   "outputs": [
    {
     "data": {
      "text/plain": [
       "'RAM'"
      ]
     },
     "execution_count": 21,
     "metadata": {},
     "output_type": "execute_result"
    }
   ],
   "source": [
    "r = \"RAM\"\n",
    "r"
   ]
  },
  {
   "cell_type": "code",
   "execution_count": null,
   "id": "15a1249e",
   "metadata": {},
   "outputs": [],
   "source": [
    "#random is remaining "
   ]
  },
  {
   "cell_type": "code",
   "execution_count": 22,
   "id": "a29fa21d",
   "metadata": {},
   "outputs": [
    {
     "ename": "ValueError",
     "evalue": "invalid literal for int() with base 10: 'RAM'",
     "output_type": "error",
     "traceback": [
      "\u001b[1;31m---------------------------------------------------------------------------\u001b[0m",
      "\u001b[1;31mValueError\u001b[0m                                Traceback (most recent call last)",
      "\u001b[1;32m~\\AppData\\Local\\Temp/ipykernel_448/1994142990.py\u001b[0m in \u001b[0;36m<module>\u001b[1;34m\u001b[0m\n\u001b[1;32m----> 1\u001b[1;33m \u001b[0mr\u001b[0m \u001b[1;33m=\u001b[0m \u001b[0mint\u001b[0m\u001b[1;33m(\u001b[0m\u001b[0mr\u001b[0m\u001b[1;33m)\u001b[0m\u001b[1;33m\u001b[0m\u001b[1;33m\u001b[0m\u001b[0m\n\u001b[0m\u001b[0;32m      2\u001b[0m \u001b[0mr\u001b[0m\u001b[1;33m\u001b[0m\u001b[1;33m\u001b[0m\u001b[0m\n",
      "\u001b[1;31mValueError\u001b[0m: invalid literal for int() with base 10: 'RAM'"
     ]
    }
   ],
   "source": [
    "r = int(r)\n",
    "r"
   ]
  },
  {
   "cell_type": "code",
   "execution_count": 51,
   "id": "a7e565d8",
   "metadata": {},
   "outputs": [
    {
     "name": "stdout",
     "output_type": "stream",
     "text": [
      "my name is Chinmay ! I am 24 years old \n",
      "       new year, diwali\n"
     ]
    }
   ],
   "source": [
    "#String representation \n",
    "a = \"Chinmay\"\n",
    "a = 'Chinmay'\n",
    "a = \"\"\"my name is Chinmay ! I am 24 years old \n",
    "       new year, diwali\"\"\"\n",
    "print(a)"
   ]
  },
  {
   "cell_type": "code",
   "execution_count": 28,
   "id": "f9f80c19",
   "metadata": {},
   "outputs": [
    {
     "data": {
      "text/plain": [
       "'a'"
      ]
     },
     "execution_count": 28,
     "metadata": {},
     "output_type": "execute_result"
    }
   ],
   "source": [
    "#string slicing\n",
    "a[4]\n"
   ]
  },
  {
   "cell_type": "code",
   "execution_count": 30,
   "id": "2e614978",
   "metadata": {},
   "outputs": [
    {
     "data": {
      "text/plain": [
       "' na'"
      ]
     },
     "execution_count": 30,
     "metadata": {},
     "output_type": "execute_result"
    }
   ],
   "source": [
    "a[2:5]"
   ]
  },
  {
   "cell_type": "code",
   "execution_count": 31,
   "id": "3ba97cb3",
   "metadata": {},
   "outputs": [
    {
     "data": {
      "text/plain": [
       "'i'"
      ]
     },
     "execution_count": 31,
     "metadata": {},
     "output_type": "execute_result"
    }
   ],
   "source": [
    "a[-1]"
   ]
  },
  {
   "cell_type": "code",
   "execution_count": 52,
   "id": "bd669e40",
   "metadata": {},
   "outputs": [
    {
     "name": "stdout",
     "output_type": "stream",
     "text": [
      "\n"
     ]
    }
   ],
   "source": [
    "print(a[-1:-1])"
   ]
  },
  {
   "cell_type": "code",
   "execution_count": 42,
   "id": "0243146c",
   "metadata": {},
   "outputs": [
    {
     "name": "stdout",
     "output_type": "stream",
     "text": [
      "m\n",
      "y\n",
      " \n",
      "n\n",
      "a\n",
      "m\n",
      "e\n",
      " \n",
      "i\n",
      "s\n",
      " \n",
      "C\n",
      "h\n",
      "i\n",
      "n\n",
      "m\n",
      "a\n",
      "y\n",
      " \n",
      "!\n",
      " \n",
      "I\n",
      " \n",
      "a\n",
      "m\n",
      " \n",
      "2\n",
      "4\n",
      " \n",
      "y\n",
      "e\n",
      "a\n",
      "r\n",
      "s\n",
      " \n",
      "o\n",
      "l\n",
      "d\n",
      " \n",
      "\n",
      "\n",
      " \n",
      " \n",
      " \n",
      " \n",
      " \n",
      " \n",
      " \n",
      "n\n",
      "e\n",
      "w\n",
      " \n",
      "y\n",
      "e\n",
      "a\n",
      "r\n",
      ",\n",
      " \n",
      "d\n",
      "i\n",
      "w\n",
      "a\n",
      "l\n",
      "i\n"
     ]
    }
   ],
   "source": [
    "for i in a:\n",
    "    print(i)"
   ]
  },
  {
   "cell_type": "code",
   "execution_count": 43,
   "id": "5dea9daa",
   "metadata": {},
   "outputs": [
    {
     "name": "stdout",
     "output_type": "stream",
     "text": [
      "63\n"
     ]
    }
   ],
   "source": [
    "print(len(a))"
   ]
  },
  {
   "cell_type": "code",
   "execution_count": 44,
   "id": "0f824dc5",
   "metadata": {},
   "outputs": [
    {
     "name": "stdout",
     "output_type": "stream",
     "text": [
      "True\n"
     ]
    }
   ],
   "source": [
    "print(\"my\" in a)"
   ]
  },
  {
   "cell_type": "code",
   "execution_count": 47,
   "id": "fd809b10",
   "metadata": {},
   "outputs": [
    {
     "name": "stdout",
     "output_type": "stream",
     "text": [
      "Yes, it is present!\n"
     ]
    }
   ],
   "source": [
    "if \"my\" in a:\n",
    "    print(\"Yes, it is present!\")\n",
    "else:\n",
    "    print(\"NOpe\")"
   ]
  },
  {
   "cell_type": "code",
   "execution_count": 48,
   "id": "d790fbda",
   "metadata": {},
   "outputs": [
    {
     "name": "stdout",
     "output_type": "stream",
     "text": [
      "False\n"
     ]
    }
   ],
   "source": [
    "print(\"my\" not in a)"
   ]
  },
  {
   "cell_type": "code",
   "execution_count": 53,
   "id": "884a9a07",
   "metadata": {},
   "outputs": [
    {
     "name": "stdout",
     "output_type": "stream",
     "text": [
      "MY NAME IS CHINMAY ! I AM 24 YEARS OLD \n",
      "       NEW YEAR, DIWALI\n"
     ]
    }
   ],
   "source": [
    "a = a.upper()\n",
    "print(a)"
   ]
  },
  {
   "cell_type": "code",
   "execution_count": 54,
   "id": "608e9b60",
   "metadata": {},
   "outputs": [
    {
     "name": "stdout",
     "output_type": "stream",
     "text": [
      "my name is chinmay ! i am 24 years old \n",
      "       new year, diwali\n"
     ]
    }
   ],
   "source": [
    "a = a.lower()\n",
    "print(a)"
   ]
  },
  {
   "cell_type": "code",
   "execution_count": 55,
   "id": "70eb1dd0",
   "metadata": {},
   "outputs": [
    {
     "data": {
      "text/plain": [
       "'my name is chinmay ! i am 24 years old \\n       new year, diwali'"
      ]
     },
     "execution_count": 55,
     "metadata": {},
     "output_type": "execute_result"
    }
   ],
   "source": [
    "a = a.strip()     #removes white spaces from begining and ending \n",
    "a"
   ]
  },
  {
   "cell_type": "code",
   "execution_count": 56,
   "id": "fffd7155",
   "metadata": {},
   "outputs": [],
   "source": [
    "a = a.replace(\"e\",\"w\")"
   ]
  },
  {
   "cell_type": "code",
   "execution_count": 57,
   "id": "9126f9a7",
   "metadata": {},
   "outputs": [
    {
     "data": {
      "text/plain": [
       "'my namw is chinmay ! i am 24 ywars old \\n       nww ywar, diwali'"
      ]
     },
     "execution_count": 57,
     "metadata": {},
     "output_type": "execute_result"
    }
   ],
   "source": [
    "a"
   ]
  },
  {
   "cell_type": "code",
   "execution_count": 58,
   "id": "55d7e666",
   "metadata": {},
   "outputs": [],
   "source": [
    "a = a.split()"
   ]
  },
  {
   "cell_type": "code",
   "execution_count": 59,
   "id": "9e37c640",
   "metadata": {},
   "outputs": [
    {
     "data": {
      "text/plain": [
       "['my',\n",
       " 'namw',\n",
       " 'is',\n",
       " 'chinmay',\n",
       " '!',\n",
       " 'i',\n",
       " 'am',\n",
       " '24',\n",
       " 'ywars',\n",
       " 'old',\n",
       " 'nww',\n",
       " 'ywar,',\n",
       " 'diwali']"
      ]
     },
     "execution_count": 59,
     "metadata": {},
     "output_type": "execute_result"
    }
   ],
   "source": [
    "a"
   ]
  },
  {
   "cell_type": "code",
   "execution_count": 61,
   "id": "703ee2b4",
   "metadata": {},
   "outputs": [],
   "source": [
    "na = \"My name id \\\"Chinmay\\\" and you are welcome\"        # to add quote marks \n"
   ]
  },
  {
   "cell_type": "code",
   "execution_count": 62,
   "id": "a6f97556",
   "metadata": {},
   "outputs": [
    {
     "data": {
      "text/plain": [
       "'My name id \"Chinmay\" and you are welcome'"
      ]
     },
     "execution_count": 62,
     "metadata": {},
     "output_type": "execute_result"
    }
   ],
   "source": [
    "na"
   ]
  },
  {
   "cell_type": "markdown",
   "id": "f7b96cd1",
   "metadata": {},
   "source": [
    "capitalize()\tConverts the first character to upper case\n",
    "casefold()\tConverts string into lower case\n",
    "center()\tReturns a centered string\n",
    "count()\tReturns the number of times a specified value occurs in a string\n",
    "encode()\tReturns an encoded version of the string\n",
    "endswith()\tReturns true if the string ends with the specified value\n",
    "expandtabs()\tSets the tab size of the string\n",
    "find()\tSearches the string for a specified value and returns the position of where it was found\n",
    "format()\tFormats specified values in a string\n",
    "format_map()\tFormats specified values in a string\n",
    "index()\tSearches the string for a specified value and returns the position of where it was found\n",
    "isalnum()\tReturns True if all characters in the string are alphanumeric\n",
    "isalpha()\tReturns True if all characters in the string are in the alphabet\n",
    "isdecimal()\tReturns True if all characters in the string are decimals\n",
    "isdigit()\tReturns True if all characters in the string are digits\n",
    "isidentifier()\tReturns True if the string is an identifier\n",
    "islower()\tReturns True if all characters in the string are lower case\n",
    "isnumeric()\tReturns True if all characters in the string are numeric\n",
    "isprintable()\tReturns True if all characters in the string are printable\n",
    "isspace()\tReturns True if all characters in the string are whitespaces\n",
    "istitle()\tReturns True if the string follows the rules of a title\n",
    "isupper()\tReturns True if all characters in the string are upper case\n",
    "join()\tJoins the elements of an iterable to the end of the string\n",
    "ljust()\tReturns a left justified version of the string\n",
    "lower()\tConverts a string into lower case\n",
    "lstrip()\tReturns a left trim version of the string\n",
    "maketrans()\tReturns a translation table to be used in translations\n",
    "partition()\tReturns a tuple where the string is parted into three parts\n",
    "replace()\tReturns a string where a specified value is replaced with a specified value\n",
    "rfind()\tSearches the string for a specified value and returns the last position of where it was found\n",
    "rindex()\tSearches the string for a specified value and returns the last position of where it was found\n",
    "rjust()\tReturns a right justified version of the string\n",
    "rpartition()\tReturns a tuple where the string is parted into three parts\n",
    "rsplit()\tSplits the string at the specified separator, and returns a list\n",
    "rstrip()\tReturns a right trim version of the string\n",
    "split()\tSplits the string at the specified separator, and returns a list\n",
    "splitlines()\tSplits the string at line breaks and returns a list\n",
    "startswith()\tReturns true if the string starts with the specified value\n",
    "strip()\tReturns a trimmed version of the string\n",
    "swapcase()\tSwaps cases, lower case becomes upper case and vice versa\n",
    "title()\tConverts the first character of each word to upper case\n",
    "translate()\tReturns a translated string\n",
    "upper()\tConverts a string into upper case\n",
    "zfill()\tFills the string with a specified number of 0 values at the beginning"
   ]
  }
 ],
 "metadata": {
  "kernelspec": {
   "display_name": "Python 3 (ipykernel)",
   "language": "python",
   "name": "python3"
  },
  "language_info": {
   "codemirror_mode": {
    "name": "ipython",
    "version": 3
   },
   "file_extension": ".py",
   "mimetype": "text/x-python",
   "name": "python",
   "nbconvert_exporter": "python",
   "pygments_lexer": "ipython3",
   "version": "3.11.4"
  }
 },
 "nbformat": 4,
 "nbformat_minor": 5
}
