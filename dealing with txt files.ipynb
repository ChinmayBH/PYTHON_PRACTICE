{
 "cells": [
  {
   "cell_type": "code",
   "execution_count": 15,
   "id": "9e63a50c",
   "metadata": {},
   "outputs": [
    {
     "name": "stdout",
     "output_type": "stream",
     "text": [
      "Chinmay\n",
      "SAaaa\n",
      "dddd\n",
      "dsd\n",
      "\n"
     ]
    }
   ],
   "source": [
    "file = open(\"attendace.txt\",\"rt\")              #Opening text files and reading \n",
    "print(file.read())"
   ]
  },
  {
   "cell_type": "code",
   "execution_count": 14,
   "id": "2779856b",
   "metadata": {},
   "outputs": [
    {
     "name": "stdout",
     "output_type": "stream",
     "text": [
      "Chinmay\n",
      "\n"
     ]
    }
   ],
   "source": [
    "file = open(\"attendace.txt\",\"rt\")              #opening text files and reading line by line\n",
    "print(file.readline())\n",
    "#print(file.readline())"
   ]
  },
  {
   "cell_type": "code",
   "execution_count": 16,
   "id": "cf482fda",
   "metadata": {},
   "outputs": [
    {
     "name": "stdout",
     "output_type": "stream",
     "text": [
      "Chinmay\n",
      "\n",
      "SAaaa\n",
      "\n",
      "dddd\n",
      "\n",
      "dsd\n",
      "\n"
     ]
    }
   ],
   "source": [
    "file = open(\"attendace.txt\",\"rt\")              #To check every item in list\n",
    "for x in file:\n",
    "    print(x)"
   ]
  },
  {
   "cell_type": "code",
   "execution_count": 19,
   "id": "8d95cc61",
   "metadata": {},
   "outputs": [
    {
     "name": "stdout",
     "output_type": "stream",
     "text": [
      "Chinmay\n",
      "\n",
      "SAaaa\n",
      "\n",
      "dddd\n",
      "\n"
     ]
    }
   ],
   "source": [
    "file = open(\"attendace.txt\",\"rt\")                #closing files after reading \n",
    "print(file.readline())\n",
    "print(file.readline())\n",
    "\n",
    "print(file.readline())\n",
    "\n",
    "file.close()"
   ]
  },
  {
   "cell_type": "code",
   "execution_count": 22,
   "id": "33875850",
   "metadata": {},
   "outputs": [
    {
     "name": "stdout",
     "output_type": "stream",
     "text": [
      "Chinmay\n",
      "SAaaa\n",
      "dddd\n",
      "dsd\n",
      "New names yet to be added New names yet to be added New names yet to be added \n"
     ]
    }
   ],
   "source": [
    "file = open(\"attendace.txt\",\"a\")                               #Writing inside files accessing it \n",
    "file.write(\"New names yet to be added \")\n",
    "file.close()\n",
    "\n",
    "file = open(\"attendace.txt\",'r')\n",
    "print(file.read())\n"
   ]
  },
  {
   "cell_type": "code",
   "execution_count": 26,
   "id": "b83a69ff",
   "metadata": {},
   "outputs": [],
   "source": [
    "file = open(\"new_file1.txt\",'x')                         #appending something to the end of text file\n",
    "file.close()"
   ]
  },
  {
   "cell_type": "code",
   "execution_count": 27,
   "id": "cf10a97c",
   "metadata": {},
   "outputs": [],
   "source": [
    "import os                                                #delete a particular file from path \n",
    "os.remove(\"new_file1.txt\")"
   ]
  },
  {
   "cell_type": "code",
   "execution_count": 29,
   "id": "baf4c4fc",
   "metadata": {},
   "outputs": [
    {
     "name": "stdout",
     "output_type": "stream",
     "text": [
      "file does not exist\n"
     ]
    }
   ],
   "source": [
    "if os.path.exists(\"new_file1.txt\"):                          #deleting file if exists \n",
    "    os.remove(\"new_file1.txt\")\n",
    "else:\n",
    "    print(\"file does not exist\")\n",
    "\n",
    "              \n"
   ]
  },
  {
   "cell_type": "code",
   "execution_count": null,
   "id": "3df323b9",
   "metadata": {},
   "outputs": [],
   "source": [
    "import os                                     #deleting whole folder\n",
    "os.rmdir(\"Folder_name\") "
   ]
  }
 ],
 "metadata": {
  "kernelspec": {
   "display_name": "Python 3",
   "language": "python",
   "name": "python3"
  },
  "language_info": {
   "codemirror_mode": {
    "name": "ipython",
    "version": 3
   },
   "file_extension": ".py",
   "mimetype": "text/x-python",
   "name": "python",
   "nbconvert_exporter": "python",
   "pygments_lexer": "ipython3",
   "version": "3.8.8"
  }
 },
 "nbformat": 4,
 "nbformat_minor": 5
}
