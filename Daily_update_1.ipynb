{
 "cells": [
  {
   "cell_type": "code",
   "execution_count": 2,
   "metadata": {},
   "outputs": [
    {
     "name": "stdout",
     "output_type": "stream",
     "text": [
      "Hello World!\n"
     ]
    }
   ],
   "source": [
    "#Printing in python\n",
    "\n",
    "print(\"Hello World!\")"
   ]
  },
  {
   "cell_type": "code",
   "execution_count": 12,
   "metadata": {},
   "outputs": [
    {
     "name": "stdout",
     "output_type": "stream",
     "text": [
      "<class 'str'>\n"
     ]
    }
   ],
   "source": [
    "# Variables in python\n",
    "x = 5 #int \n",
    "y = 5.5 # float\n",
    "z = True #bool\n",
    "z = \"Chinmay\" #str\n",
    "print(type(z))"
   ]
  },
  {
   "cell_type": "code",
   "execution_count": 13,
   "metadata": {},
   "outputs": [],
   "source": [
    "#Typecasting is a method of converting one type into another type"
   ]
  },
  {
   "cell_type": "markdown",
   "metadata": {},
   "source": [
    "Integers: A number without a decimal part, such as 25 or 40 \n",
    "Floats: A number with both an integer and a decimal part, such as 72.25 \n",
    "Booleans: A variable that can be either True or False, corresponding to the machine's logic of understanding 1s and 0s \n",
    "Tuples: A collection of data that can contain multiple types of data, such as a tuple with integers or a tuple with a mix of integers and strings \n",
    "Local variables: A variable that is defined inside a function and only exists within that function \n",
    "Global variables: A variable that is declared outside the scope of a function and can be accessed inside or outside the function \n",
    "Class variables: A variable that is defined within the class construction and is shared by all instances of the class \n",
    "Instance variables: A variable that is defined in a class and has a separate copy for each instantiated object of the class"
   ]
  },
  {
   "cell_type": "code",
   "execution_count": 11,
   "metadata": {},
   "outputs": [
    {
     "data": {
      "text/plain": [
       "1"
      ]
     },
     "execution_count": 11,
     "metadata": {},
     "output_type": "execute_result"
    }
   ],
   "source": [
    "# Python operators\n",
    "x = 3\n",
    "y = 2\n",
    "z = x+y\n",
    "z  = x/y\n",
    "z = x%y\n",
    "z"
   ]
  },
  {
   "cell_type": "markdown",
   "metadata": {},
   "source": [
    "Python has six relational operators used to compare values:\n",
    "\n",
    "\n",
    "Equal to (==): Checks if two values are equal.\n",
    "Not equal to (!=): Checks if two values are not equal.\n",
    "Greater than (>): Checks if the left value is greater than the right value.\n",
    "Less than (<): Checks if the left value is less than the right value.\n",
    "Greater than or equal to (>=): Checks if the left value is greater than or equal to the right value.\n",
    "Less than or equal to (<=): Checks if the left value is less than or equal to the right value."
   ]
  },
  {
   "cell_type": "code",
   "execution_count": 3,
   "metadata": {},
   "outputs": [
    {
     "name": "stdout",
     "output_type": "stream",
     "text": [
      "The text next:  \n",
      "My name is Chinmay! I know the python. This is just a sort of polishing my knife.\n",
      "I may be good but not best what I want to be.\n",
      "Thats why I am practicing python hard.\n",
      "\n"
     ]
    }
   ],
   "source": [
    "text = \"\"\" \n",
    "My name is Chinmay! I know the python. This is just a sort of polishing my knife.\n",
    "I may be good but not best what I want to be.\n",
    "Thats why I am practicing python hard.\n",
    "\"\"\"\n",
    "\n",
    "print(\"The text next:\",text)"
   ]
  },
  {
   "cell_type": "code",
   "execution_count": null,
   "metadata": {},
   "outputs": [],
   "source": [
    "# print python version\n",
    "\n",
    "!python3 --version"
   ]
  },
  {
   "cell_type": "code",
   "execution_count": 9,
   "metadata": {},
   "outputs": [],
   "source": [
    "# Write a program to know area of circle \n",
    "import math\n",
    "def area():\n",
    "    radius = float(input(\"enter radius of circle \"))\n",
    "    area  = round(radius * math.pi * radius,2)\n",
    "    return f\"Area of circle is {area} sq-units\""
   ]
  },
  {
   "cell_type": "code",
   "execution_count": null,
   "metadata": {},
   "outputs": [],
   "source": [
    "area_1 = area()\n",
    "area_1"
   ]
  },
  {
   "cell_type": "code",
   "execution_count": null,
   "metadata": {},
   "outputs": [],
   "source": [
    "#  program that accepts the user's first and last name and prints them in reverse order\n",
    "\n",
    "name = str(input(\"Enter your good name: \"))\n",
    "first_name = name.split(\" \")[0]\n",
    "last_name = name.split(\" \")[1]\n",
    "print(\"Hello {} {}, How are you \".format(last_name, first_name))"
   ]
  },
  {
   "cell_type": "code",
   "execution_count": null,
   "metadata": {},
   "outputs": [],
   "source": [
    "#program that accepts a sequence of comma-separated numbers from the user and generates a list and a tuple of those numbers.\n",
    "\n",
    "values = input()\n",
    "print(values)\n",
    "values = tuple(values.split(\",\"))\n",
    "print(values)\n"
   ]
  },
  {
   "cell_type": "code",
   "execution_count": null,
   "metadata": {},
   "outputs": [],
   "source": [
    "#program that accepts a filename from the user and prints the extension of the file.\n",
    "file_name = input(\"enter filename \")\n",
    "print(file_name)\n",
    "splitting = file_name.split(\".\")\n",
    "print(splitting)\n",
    "extention = splitting[-1]\n",
    "print(extention)"
   ]
  },
  {
   "cell_type": "code",
   "execution_count": null,
   "metadata": {},
   "outputs": [],
   "source": [
    "# program to display the first and last colors from the following list\n",
    "color_list = [\"Red\",\"Green\",\"White\" ,\"Black\"]\n",
    "print(\"the first element of above list is {} and the last element is {}\".format(color_list[0], color_list[-1]))"
   ]
  },
  {
   "cell_type": "code",
   "execution_count": null,
   "metadata": {},
   "outputs": [],
   "source": [
    "# program to display the examination schedule\n",
    "# Define a tuple called 'exam_st_date' containing the exam start date in the format (day, month, year)\n",
    "exam_st_date = (11, 12, 2014)\n",
    "\n",
    "# Print the exam start date using string formatting\n",
    "# The '%i' placeholders are filled with the values from the 'exam_st_date' tuple\n",
    "print(\"The examination will start from : %i / %i / %i\" % exam_st_date)"
   ]
  },
  {
   "cell_type": "code",
   "execution_count": 49,
   "metadata": {},
   "outputs": [],
   "source": [
    "# program that accepts an integer (n) and computes the value of n+nn+nnn.\n",
    "def comm_add(num):\n",
    "    num1 = int(\"%s\" %num) \n",
    "    num2 = int(\"%s%s\"%(num,num))\n",
    "    num3 = int(\"%s%s%s\"%(num,num,num))\n",
    "    add = num1+num2+num3\n",
    "    return add   "
   ]
  },
  {
   "cell_type": "code",
   "execution_count": null,
   "metadata": {},
   "outputs": [],
   "source": [
    "ans = comm_add(2)\n",
    "ans"
   ]
  },
  {
   "cell_type": "code",
   "execution_count": null,
   "metadata": {},
   "outputs": [],
   "source": [
    "# This is comment \n",
    "a = 4  # this is also a comment "
   ]
  },
  {
   "cell_type": "code",
   "execution_count": null,
   "metadata": {},
   "outputs": [],
   "source": [
    "# Cases of declearing variables \n",
    "# Camel case\n",
    "theFirstInteger = 1\n",
    "#Pascal case\n",
    "TheFirstInteger = 1"
   ]
  },
  {
   "cell_type": "code",
   "execution_count": null,
   "metadata": {},
   "outputs": [],
   "source": []
  }
 ],
 "metadata": {
  "kernelspec": {
   "display_name": "Python 3",
   "language": "python",
   "name": "python3"
  },
  "language_info": {
   "codemirror_mode": {
    "name": "ipython",
    "version": 3
   },
   "file_extension": ".py",
   "mimetype": "text/x-python",
   "name": "python",
   "nbconvert_exporter": "python",
   "pygments_lexer": "ipython3",
   "version": "3.11.9"
  }
 },
 "nbformat": 4,
 "nbformat_minor": 2
}
