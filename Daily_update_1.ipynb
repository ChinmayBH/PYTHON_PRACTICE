{
 "cells": [
  {
   "cell_type": "code",
   "execution_count": 2,
   "metadata": {},
   "outputs": [
    {
     "name": "stdout",
     "output_type": "stream",
     "text": [
      "Hello World!\n"
     ]
    }
   ],
   "source": [
    "#Printing in python\n",
    "\n",
    "print(\"Hello World!\")"
   ]
  },
  {
   "cell_type": "code",
   "execution_count": 5,
   "metadata": {},
   "outputs": [
    {
     "name": "stdout",
     "output_type": "stream",
     "text": [
      "The text next:  \n",
      "My name is Chinmay! I know the python. This is just a sort of polishing my knife.\n",
      "I may be good but not best what I want to be.\n",
      "Thats why I am practicing python hard.\n",
      "\n"
     ]
    }
   ],
   "source": [
    "text = \"\"\" \n",
    "My name is Chinmay! I know the python. This is just a sort of polishing my knife.\n",
    "I may be good but not best what I want to be.\n",
    "Thats why I am practicing python hard.\n",
    "\"\"\"\n",
    "\n",
    "print(\"The text next:\",text)"
   ]
  },
  {
   "cell_type": "code",
   "execution_count": 8,
   "metadata": {},
   "outputs": [
    {
     "name": "stdout",
     "output_type": "stream",
     "text": [
      "Python 3.11.9\n"
     ]
    }
   ],
   "source": [
    "# print python version\n",
    "\n",
    "!python3 --version"
   ]
  },
  {
   "cell_type": "code",
   "execution_count": 9,
   "metadata": {},
   "outputs": [],
   "source": [
    "# Write a program to know area of circle \n",
    "import math\n",
    "def area():\n",
    "    radius = float(input(\"enter radius of circle \"))\n",
    "    area  = round(radius * math.pi * radius,2)\n",
    "    return f\"Area of circle is {area} sq-units\""
   ]
  },
  {
   "cell_type": "code",
   "execution_count": 11,
   "metadata": {},
   "outputs": [
    {
     "data": {
      "text/plain": [
       "'Area of circle is 50.27 sq-units'"
      ]
     },
     "execution_count": 11,
     "metadata": {},
     "output_type": "execute_result"
    }
   ],
   "source": [
    "area_1 = area()\n",
    "area_1"
   ]
  },
  {
   "cell_type": "code",
   "execution_count": 13,
   "metadata": {},
   "outputs": [
    {
     "name": "stdout",
     "output_type": "stream",
     "text": [
      "Hello Bhalerao Chinmay, How are you \n"
     ]
    }
   ],
   "source": [
    "#  program that accepts the user's first and last name and prints them in reverse order\n",
    "\n",
    "name = str(input(\"Enter your good name: \"))\n",
    "first_name = name.split(\" \")[0]\n",
    "last_name = name.split(\" \")[1]\n",
    "print(\"Hello {} {}, How are you \".format(last_name, first_name))"
   ]
  },
  {
   "cell_type": "code",
   "execution_count": 18,
   "metadata": {},
   "outputs": [
    {
     "name": "stdout",
     "output_type": "stream",
     "text": [
      "1,2,3,4,5,6,7\n",
      "('1', '2', '3', '4', '5', '6', '7')\n"
     ]
    }
   ],
   "source": [
    "#program that accepts a sequence of comma-separated numbers from the user and generates a list and a tuple of those numbers.\n",
    "\n",
    "values = input()\n",
    "print(values)\n",
    "values = tuple(values.split(\",\"))\n",
    "print(values)\n"
   ]
  },
  {
   "cell_type": "code",
   "execution_count": 25,
   "metadata": {},
   "outputs": [
    {
     "name": "stdout",
     "output_type": "stream",
     "text": [
      "weraweereer.ts\n",
      "['weraweereer', 'ts']\n",
      "ts\n"
     ]
    }
   ],
   "source": [
    "#program that accepts a filename from the user and prints the extension of the file.\n",
    "file_name = input(\"enter filename \")\n",
    "print(file_name)\n",
    "splitting = file_name.split(\".\")\n",
    "print(splitting)\n",
    "extention = splitting[-1]\n",
    "print(extention)"
   ]
  },
  {
   "cell_type": "code",
   "execution_count": 26,
   "metadata": {},
   "outputs": [
    {
     "name": "stdout",
     "output_type": "stream",
     "text": [
      "the first element of above list is Red and the last element is Black\n"
     ]
    }
   ],
   "source": [
    "# program to display the first and last colors from the following list\n",
    "color_list = [\"Red\",\"Green\",\"White\" ,\"Black\"]\n",
    "print(\"the first element of above list is {} and the last element is {}\".format(color_list[0], color_list[-1]))"
   ]
  },
  {
   "cell_type": "code",
   "execution_count": 32,
   "metadata": {},
   "outputs": [
    {
     "name": "stdout",
     "output_type": "stream",
     "text": [
      "The examination will start from : 11 / 12 / 2014\n"
     ]
    }
   ],
   "source": [
    "# program to display the examination schedule\n",
    "# Define a tuple called 'exam_st_date' containing the exam start date in the format (day, month, year)\n",
    "exam_st_date = (11, 12, 2014)\n",
    "\n",
    "# Print the exam start date using string formatting\n",
    "# The '%i' placeholders are filled with the values from the 'exam_st_date' tuple\n",
    "print(\"The examination will start from : %i / %i / %i\" % exam_st_date)"
   ]
  },
  {
   "cell_type": "code",
   "execution_count": 49,
   "metadata": {},
   "outputs": [],
   "source": [
    "# program that accepts an integer (n) and computes the value of n+nn+nnn.\n",
    "def comm_add(num):\n",
    "    num1 = int(\"%s\" %num) \n",
    "    num2 = int(\"%s%s\"%(num,num))\n",
    "    num3 = int(\"%s%s%s\"%(num,num,num))\n",
    "    add = num1+num2+num3\n",
    "    return add   "
   ]
  },
  {
   "cell_type": "code",
   "execution_count": 50,
   "metadata": {},
   "outputs": [
    {
     "data": {
      "text/plain": [
       "246"
      ]
     },
     "execution_count": 50,
     "metadata": {},
     "output_type": "execute_result"
    }
   ],
   "source": [
    "ans = comm_add(2)\n",
    "ans"
   ]
  },
  {
   "cell_type": "code",
   "execution_count": null,
   "metadata": {},
   "outputs": [],
   "source": []
  }
 ],
 "metadata": {
  "kernelspec": {
   "display_name": "Python 3",
   "language": "python",
   "name": "python3"
  },
  "language_info": {
   "codemirror_mode": {
    "name": "ipython",
    "version": 3
   },
   "file_extension": ".py",
   "mimetype": "text/x-python",
   "name": "python",
   "nbconvert_exporter": "python",
   "pygments_lexer": "ipython3",
   "version": "3.10.13"
  }
 },
 "nbformat": 4,
 "nbformat_minor": 2
}
