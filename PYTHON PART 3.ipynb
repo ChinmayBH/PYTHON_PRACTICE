{
 "cells": [
  {
   "cell_type": "markdown",
   "id": "c55198b6",
   "metadata": {},
   "source": [
    "# File Handling\n"
   ]
  },
  {
   "cell_type": "code",
   "execution_count": 31,
   "id": "0c498a79",
   "metadata": {},
   "outputs": [],
   "source": [
    "# OPENING ANY TEXT FILE \n",
    "f = open(r'tttt.txt')"
   ]
  },
  {
   "cell_type": "code",
   "execution_count": 18,
   "id": "d418cbb6",
   "metadata": {},
   "outputs": [
    {
     "data": {
      "text/plain": [
       "'My name is Chinmay Bhalerao and this is test document \\nSECOND LINE \\nTHIRD LINE \\nFOURTH LINE '"
      ]
     },
     "execution_count": 18,
     "metadata": {},
     "output_type": "execute_result"
    }
   ],
   "source": [
    "# READING TEXT FILE \n",
    "f = open(r'tttt.txt','r')\n",
    "f.read()"
   ]
  },
  {
   "cell_type": "code",
   "execution_count": 22,
   "id": "ec4c06df",
   "metadata": {},
   "outputs": [
    {
     "data": {
      "text/plain": [
       "'My na'"
      ]
     },
     "execution_count": 22,
     "metadata": {},
     "output_type": "execute_result"
    }
   ],
   "source": [
    "# READ PARTICULAR PORTION \n",
    "f = open('tttt.txt','r')\n",
    "f.read(5)"
   ]
  },
  {
   "cell_type": "code",
   "execution_count": 32,
   "id": "78ac298d",
   "metadata": {},
   "outputs": [
    {
     "name": "stdout",
     "output_type": "stream",
     "text": [
      "My name is Chinmay Bhalerao and this is test document \n",
      "\n",
      "SECOND LINE \n",
      "\n",
      "THIRD LINE \n",
      "\n",
      "FOURTH LINE \n"
     ]
    }
   ],
   "source": [
    "f = open('tttt.txt')\n",
    "for i in f:\n",
    "    print(i)\n"
   ]
  },
  {
   "cell_type": "code",
   "execution_count": 23,
   "id": "a7d8d525",
   "metadata": {},
   "outputs": [],
   "source": [
    "# CLOSING OPENED DOCUMENT \n",
    "f.readline()\n",
    "f.close()"
   ]
  },
  {
   "cell_type": "code",
   "execution_count": null,
   "id": "eb242097",
   "metadata": {},
   "outputs": [],
   "source": [
    "\"a\" - Append - will append to the end of the file\n",
    "\"w\" - Write - will overwrite any existing content"
   ]
  },
  {
   "cell_type": "code",
   "execution_count": 15,
   "id": "4c3f1120",
   "metadata": {},
   "outputs": [
    {
     "name": "stdout",
     "output_type": "stream",
     "text": [
      "Now the file has more content!Now the file has more content!\n"
     ]
    }
   ],
   "source": [
    "# THIS WILL ALSO CREATE A NEW FILE \n",
    "\n",
    "f = open(\"demofile2.txt\", \"a\")\n",
    "f.write(\"Now the file has more content!\")\n",
    "f.close()\n",
    "\n",
    "#OPEN AND READ FILE AFTER APPENDING \n",
    "f = open(\"demofile2.txt\", \"r\")\n",
    "print(f.read())\n",
    "f.close()"
   ]
  },
  {
   "cell_type": "code",
   "execution_count": null,
   "id": "a1c4f9d5",
   "metadata": {},
   "outputs": [],
   "source": [
    "#CREATING OF NEW FILE\n",
    "\n",
    "f = open(\"myfile.txt\", \"w\")"
   ]
  },
  {
   "cell_type": "code",
   "execution_count": 16,
   "id": "db13c58d",
   "metadata": {},
   "outputs": [],
   "source": [
    "# REMOVE THE FILE \n",
    "\n",
    "import os\n",
    "os.remove(\"demofile2.txt\")"
   ]
  },
  {
   "cell_type": "code",
   "execution_count": null,
   "id": "1b0bb530",
   "metadata": {},
   "outputs": [],
   "source": [
    "# CHECKING EXISTANCE OF FILE \n",
    "import os\n",
    "if os.path.exists(\"demofile.txt\"):\n",
    "  os.remove(\"demofile.txt\")\n",
    "else:\n",
    "  print(\"The file does not exist\")"
   ]
  },
  {
   "cell_type": "code",
   "execution_count": null,
   "id": "e973f691",
   "metadata": {},
   "outputs": [],
   "source": [
    "# REMOVE FOLDER \n",
    "import os\n",
    "os.rmdir(\"myfolder\")"
   ]
  },
  {
   "cell_type": "code",
   "execution_count": null,
   "id": "c5da50f5",
   "metadata": {},
   "outputs": [],
   "source": [
    "# ERROR HANDLING \n",
    "try:\n",
    "    with open(\"example.txt\", \"r\") as file:\n",
    "        content = file.read()\n",
    "except FileNotFoundError:\n",
    "    print(\"File not found.\")\n",
    "except PermissionError:\n",
    "    print(\"Permission denied.\")"
   ]
  },
  {
   "cell_type": "markdown",
   "id": "fce8a1a6",
   "metadata": {},
   "source": [
    "# DATE TIME DEALING "
   ]
  },
  {
   "cell_type": "code",
   "execution_count": 33,
   "id": "047f7dbe",
   "metadata": {},
   "outputs": [
    {
     "name": "stdout",
     "output_type": "stream",
     "text": [
      "2023-09-21 11:32:03.001550\n"
     ]
    }
   ],
   "source": [
    "import datetime\n",
    "\n",
    "x = datetime.datetime.now()\n",
    "print(x)"
   ]
  },
  {
   "cell_type": "code",
   "execution_count": 39,
   "id": "65678e6a",
   "metadata": {},
   "outputs": [
    {
     "data": {
      "text/plain": [
       "11"
      ]
     },
     "execution_count": 39,
     "metadata": {},
     "output_type": "execute_result"
    }
   ],
   "source": [
    "# CALLING EACH THING INDIVIDUALLY \n",
    "x.year\n",
    "x.month\n",
    "x.date\n",
    "x.hour"
   ]
  },
  {
   "cell_type": "code",
   "execution_count": 40,
   "id": "011fe1c2",
   "metadata": {},
   "outputs": [
    {
     "name": "stdout",
     "output_type": "stream",
     "text": [
      "2010-12-17 00:00:00\n"
     ]
    }
   ],
   "source": [
    "# MAKING CUSTOMIZE DATE TIME INSTANCE \n",
    "import datetime\n",
    "\n",
    "x = datetime.datetime(2010, 12, 17)\n",
    "\n",
    "print(x)"
   ]
  },
  {
   "cell_type": "code",
   "execution_count": 41,
   "id": "fbeb5832",
   "metadata": {},
   "outputs": [
    {
     "name": "stdout",
     "output_type": "stream",
     "text": [
      "June\n"
     ]
    }
   ],
   "source": [
    "# CONVERTING INTO STR\n",
    "import datetime\n",
    "\n",
    "x = datetime.datetime(2018, 6, 1)\n",
    "\n",
    "print(x.strftime(\"%B\"))"
   ]
  },
  {
   "cell_type": "markdown",
   "id": "0bcf3a52",
   "metadata": {},
   "source": [
    "# Python Math\n"
   ]
  },
  {
   "cell_type": "code",
   "execution_count": 42,
   "id": "cf7430fd",
   "metadata": {},
   "outputs": [
    {
     "name": "stdout",
     "output_type": "stream",
     "text": [
      "5\n",
      "25\n"
     ]
    }
   ],
   "source": [
    "# FINDING MIN AND MAX\n",
    "x = min(5, 10, 25)\n",
    "y = max(5, 10, 25)\n",
    "\n",
    "print(x)\n",
    "print(y)"
   ]
  },
  {
   "cell_type": "code",
   "execution_count": 43,
   "id": "636add98",
   "metadata": {},
   "outputs": [
    {
     "name": "stdout",
     "output_type": "stream",
     "text": [
      "7.25\n"
     ]
    }
   ],
   "source": [
    "# NON NEGETIVE ABS \n",
    "x = abs(-7.25)\n",
    "\n",
    "print(x)"
   ]
  },
  {
   "cell_type": "code",
   "execution_count": 44,
   "id": "abac6434",
   "metadata": {},
   "outputs": [
    {
     "name": "stdout",
     "output_type": "stream",
     "text": [
      "64\n"
     ]
    }
   ],
   "source": [
    "# RAISED TO OR POWER OF ANY NUMBER\n",
    "x = pow(4, 3)\n",
    "\n",
    "print(x)"
   ]
  },
  {
   "cell_type": "code",
   "execution_count": 46,
   "id": "7bca9d9b",
   "metadata": {},
   "outputs": [
    {
     "name": "stdout",
     "output_type": "stream",
     "text": [
      "8.0\n"
     ]
    }
   ],
   "source": [
    "# math library \n",
    "import math\n",
    "x = math.sqrt(64)\n",
    "\n",
    "print(x)"
   ]
  },
  {
   "cell_type": "code",
   "execution_count": 47,
   "id": "6c6c2173",
   "metadata": {},
   "outputs": [
    {
     "name": "stdout",
     "output_type": "stream",
     "text": [
      "2\n",
      "1\n"
     ]
    }
   ],
   "source": [
    "x = math.ceil(1.4)\n",
    "y = math.floor(1.4)\n",
    "\n",
    "print(x) \n",
    "print(y) "
   ]
  },
  {
   "cell_type": "code",
   "execution_count": null,
   "id": "2616ff11",
   "metadata": {},
   "outputs": [],
   "source": [
    "The math.ceil() method rounds a number upwards to its nearest integer, and \n",
    "the math.floor() method rounds a number downwards to its nearest integer, and returns the result:"
   ]
  },
  {
   "cell_type": "code",
   "execution_count": null,
   "id": "5bb792ae",
   "metadata": {},
   "outputs": [],
   "source": []
  }
 ],
 "metadata": {
  "kernelspec": {
   "display_name": "Python 3 (ipykernel)",
   "language": "python",
   "name": "python3"
  },
  "language_info": {
   "codemirror_mode": {
    "name": "ipython",
    "version": 3
   },
   "file_extension": ".py",
   "mimetype": "text/x-python",
   "name": "python",
   "nbconvert_exporter": "python",
   "pygments_lexer": "ipython3",
   "version": "3.11.4"
  }
 },
 "nbformat": 4,
 "nbformat_minor": 5
}
